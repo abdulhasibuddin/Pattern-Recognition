{
 "cells": [
  {
   "cell_type": "code",
   "execution_count": 1,
   "metadata": {},
   "outputs": [],
   "source": [
    "# Source: https://stackabuse.com/hierarchical-clustering-with-python-and-scikit-learn/"
   ]
  },
  {
   "cell_type": "code",
   "execution_count": 2,
   "metadata": {},
   "outputs": [],
   "source": [
    "import numpy as np\n",
    "import matplotlib.pyplot as plt\n",
    "from scipy.cluster.hierarchy import dendrogram, linkage"
   ]
  },
  {
   "cell_type": "code",
   "execution_count": 3,
   "metadata": {},
   "outputs": [],
   "source": [
    "X = np.array([\n",
    "             [2,2],\n",
    "             [3,3],\n",
    "             [3,4],\n",
    "             [4.5,5],\n",
    "             [6,6],\n",
    "             [6,8],\n",
    "             [7,9],\n",
    "             [8,8],\n",
    "             [9,10]\n",
    "             ])"
   ]
  },
  {
   "cell_type": "code",
   "execution_count": 4,
   "metadata": {},
   "outputs": [
    {
     "data": {
      "image/png": "[encoded data removed]",
      "text/plain": [
       "<Figure size 720x504 with 1 Axes>"
      ]
     },
     "metadata": {
      "needs_background": "light"
     },
     "output_type": "display_data"
    }
   ],
   "source": [
    "labels = range(1,len(X)+1)\n",
    "plt.figure(figsize=(10,7))\n",
    "plt.subplots_adjust(bottom=0.1)\n",
    "plt.scatter(X[:,0],X[:,1], label='True Position')\n",
    "\n",
    "for label,x,y in zip(labels, X[:,0], X[:,1]):\n",
    "    plt.annotate(\n",
    "        label,\n",
    "        xy=(x,y),\n",
    "        xytext=(-3,3),\n",
    "        textcoords='offset points',\n",
    "        ha='right',\n",
    "        va='bottom')\n",
    "plt.show()"
   ]
  },
  {
   "cell_type": "code",
   "execution_count": 5,
   "metadata": {},
   "outputs": [
    {
     "data": {
      "image/png": "[encoded data removed]",
      "text/plain": [
       "<Figure size 720x504 with 1 Axes>"
      ]
     },
     "metadata": {
      "needs_background": "light"
     },
     "output_type": "display_data"
    }
   ],
   "source": [
    "linked = linkage(X, 'single')\n",
    "plt.figure(figsize=(10,7))\n",
    "\n",
    "dendrogram(linked,\n",
    "          orientation='top',\n",
    "          labels=labels,\n",
    "          distance_sort='descending',\n",
    "          show_leaf_counts=True)\n",
    "plt.show()"
   ]
  },
  {
   "cell_type": "code",
   "execution_count": 6,
   "metadata": {},
   "outputs": [],
   "source": [
    "# format [idx1, idx2, dist, sample_count]\n",
    "#print(linked)"
   ]
  },
  {
   "cell_type": "code",
   "execution_count": 7,
   "metadata": {},
   "outputs": [
    {
     "name": "stdout",
     "output_type": "stream",
     "text": [
      "[[ 2.          3.          1.          2.        ]\n",
      " [ 1.         10.          1.41421356  3.        ]\n",
      " [ 6.          7.          1.41421356  2.        ]\n",
      " [ 8.         12.          1.41421356  3.        ]\n",
      " [ 4.         11.          1.80277564  4.        ]\n",
      " [ 5.         14.          1.80277564  5.        ]\n",
      " [13.         15.          2.          8.        ]\n",
      " [ 9.         16.          2.23606798  9.        ]]\n"
     ]
    }
   ],
   "source": [
    "for i in range(len(linked)):\n",
    "    linked[i][0] = linked[i][0] + 1\n",
    "    linked[i][1] = linked[i][1] + 1\n",
    "print(linked)"
   ]
  },
  {
   "cell_type": "code",
   "execution_count": 8,
   "metadata": {},
   "outputs": [
    {
     "data": {
      "text/plain": [
       "array([ 1., 10.])"
      ]
     },
     "execution_count": 8,
     "metadata": {},
     "output_type": "execute_result"
    }
   ],
   "source": [
    "linked[1][0:2]"
   ]
  },
  {
   "cell_type": "code",
   "execution_count": 9,
   "metadata": {},
   "outputs": [
    {
     "name": "stdout",
     "output_type": "stream",
     "text": [
      "9\n",
      "8\n",
      "[ 1.         10.          1.41421356  3.        ]\n",
      "1.0\n"
     ]
    }
   ],
   "source": [
    "print(len(X))\n",
    "print(len(linked))\n",
    "print(linked[1])\n",
    "print(linked[1][0])"
   ]
  },
  {
   "cell_type": "code",
   "execution_count": 21,
   "metadata": {},
   "outputs": [
    {
     "name": "stdout",
     "output_type": "stream",
     "text": [
      "[2, 3]\n",
      "[1, 1]\n",
      "[6, 7]\n",
      "[8, 3]\n",
      "[4, 2]\n",
      "[5, 5]\n",
      "[4, 6]\n",
      "[9, 7]\n"
     ]
    }
   ],
   "source": [
    "cluster_steps = []\n",
    "for i in range(len(linked)):\n",
    "    current_cluster = []\n",
    "    x = int(linked[i][0])\n",
    "    y = int(linked[i][1])\n",
    "\n",
    "    if x>len(X):\n",
    "        current_cluster.append(x-len(X))\n",
    "    else:\n",
    "        current_cluster.append(x)\n",
    "    if y>len(X):\n",
    "        current_cluster.append(y-len(X))\n",
    "    else:\n",
    "        current_cluster.append(y)\n",
    "    cluster_steps.append(current_cluster)\n",
    "\n",
    "for cluster in cluster_steps:\n",
    "    print(cluster)"
   ]
  },
  {
   "cell_type": "code",
   "execution_count": 11,
   "metadata": {},
   "outputs": [
    {
     "data": {
      "text/plain": [
       "array([ 9., 10.])"
      ]
     },
     "execution_count": 11,
     "metadata": {},
     "output_type": "execute_result"
    }
   ],
   "source": [
    "X[8]"
   ]
  },
  {
   "cell_type": "code",
   "execution_count": null,
   "metadata": {},
   "outputs": [],
   "source": []
  }
 ],
 "metadata": {
  "kernelspec": {
   "display_name": "Python 3",
   "language": "python",
   "name": "python3"
  },
  "language_info": {
   "codemirror_mode": {
    "name": "ipython",
    "version": 3
   },
   "file_extension": ".py",
   "mimetype": "text/x-python",
   "name": "python",
   "nbconvert_exporter": "python",
   "pygments_lexer": "ipython3",
   "version": "3.6.6"
  }
 },
 "nbformat": 4,
 "nbformat_minor": 2
}
