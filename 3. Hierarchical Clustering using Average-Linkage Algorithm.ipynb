{
 "cells": [
  {
   "cell_type": "code",
   "execution_count": 1,
   "metadata": {},
   "outputs": [],
   "source": [
    "# Source: https://stackabuse.com/hierarchical-clustering-with-python-and-scikit-learn/"
   ]
  },
  {
   "cell_type": "code",
   "execution_count": 2,
   "metadata": {},
   "outputs": [],
   "source": [
    "import numpy as np\n",
    "import matplotlib.pyplot as plt\n",
    "from scipy.cluster.hierarchy import dendrogram, linkage"
   ]
  },
  {
   "cell_type": "code",
   "execution_count": 3,
   "metadata": {},
   "outputs": [],
   "source": [
    "X = np.array([\n",
    "             [2,2],\n",
    "             [3,3],\n",
    "             [3,4],\n",
    "             [4.5,5],\n",
    "             [6,6],\n",
    "             [6,8],\n",
    "             [7,9],\n",
    "             [8,8],\n",
    "             [9,10]\n",
    "             ])"
   ]
  },
  {
   "cell_type": "code",
   "execution_count": 4,
   "metadata": {},
   "outputs": [
    {
     "data": {
      "image/png": "[encoded data removed]",
      "text/plain": [
       "<Figure size 720x504 with 1 Axes>"
      ]
     },
     "metadata": {
      "needs_background": "light"
     },
     "output_type": "display_data"
    }
   ],
   "source": [
    "labels = range(1,len(X)+1)\n",
    "plt.figure(figsize=(10,7))\n",
    "plt.subplots_adjust(bottom=0.1)\n",
    "plt.scatter(X[:,0],X[:,1], label='True Position')\n",
    "\n",
    "for label,x,y in zip(labels, X[:,0], X[:,1]):\n",
    "    plt.annotate(\n",
    "        label,\n",
    "        xy=(x,y),\n",
    "        xytext=(-3,3),\n",
    "        textcoords='offset points',\n",
    "        ha='right',\n",
    "        va='bottom')\n",
    "plt.show()"
   ]
  },
  {
   "cell_type": "code",
   "execution_count": 5,
   "metadata": {},
   "outputs": [
    {
     "data": {
      "image/png": "[encoded data removed]",
      "text/plain": [
       "<Figure size 720x504 with 1 Axes>"
      ]
     },
     "metadata": {
      "needs_background": "light"
     },
     "output_type": "display_data"
    }
   ],
   "source": [
    "linked = linkage(X, 'average')\n",
    "plt.figure(figsize=(10,7))\n",
    "\n",
    "dendrogram(linked,\n",
    "          orientation='top',\n",
    "          labels=labels,\n",
    "          distance_sort='descending',\n",
    "          show_leaf_counts=True)\n",
    "plt.show()"
   ]
  },
  {
   "cell_type": "code",
   "execution_count": 7,
   "metadata": {},
   "outputs": [
    {
     "name": "stdout",
     "output_type": "stream",
     "text": [
      "[[ 2.          3.          1.          2.        ]\n",
      " [ 6.          7.          1.41421356  2.        ]\n",
      " [ 8.         11.          1.70710678  3.        ]\n",
      " [ 4.          5.          1.80277564  2.        ]\n",
      " [ 1.         10.          1.82514077  3.        ]\n",
      " [ 9.         12.          2.69256241  4.        ]\n",
      " [13.         14.          3.61882445  5.        ]\n",
      " [15.         16.          6.14757166  9.        ]]\n"
     ]
    }
   ],
   "source": [
    "# format [idx1, idx2, dist, sample_count]\n",
    "#print(linked)\n",
    "for i in range(len(linked)):\n",
    "    linked[i][0] = linked[i][0] + 1\n",
    "    linked[i][1] = linked[i][1] + 1\n",
    "print(linked)"
   ]
  },
  {
   "cell_type": "code",
   "execution_count": null,
   "metadata": {},
   "outputs": [],
   "source": []
  }
 ],
 "metadata": {
  "kernelspec": {
   "display_name": "Python 3",
   "language": "python",
   "name": "python3"
  },
  "language_info": {
   "codemirror_mode": {
    "name": "ipython",
    "version": 3
   },
   "file_extension": ".py",
   "mimetype": "text/x-python",
   "name": "python",
   "nbconvert_exporter": "python",
   "pygments_lexer": "ipython3",
   "version": "3.6.6"
  }
 },
 "nbformat": 4,
 "nbformat_minor": 2
}
