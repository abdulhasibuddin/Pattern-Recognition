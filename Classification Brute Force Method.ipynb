{
 "cells": [
  {
   "cell_type": "code",
   "execution_count": 1,
   "metadata": {},
   "outputs": [
    {
     "name": "stdout",
     "output_type": "stream",
     "text": [
      "Values of Class A:1.3 -0.5 2.3 5.1 8.2 -0.4 10.5 2.5 -4.2 -3.1 1.7 2.8 4.6 3.0 10.1 2.5 0.8 8.1 2.7 -6.5\n"
     ]
    }
   ],
   "source": [
    "input_value = input('Values of Class A:')"
   ]
  },
  {
   "cell_type": "code",
   "execution_count": 2,
   "metadata": {},
   "outputs": [
    {
     "name": "stdout",
     "output_type": "stream",
     "text": [
      "[1.3, -0.5, 2.3, 5.1, 8.2, -0.4, 10.5, 2.5, -4.2, -3.1, 1.7, 2.8, 4.6, 3.0, 10.1, 2.5, 0.8, 8.1, 2.7, -6.5]\n"
     ]
    }
   ],
   "source": [
    "class_A = input_value.split(' ')\n",
    "for i in range(0,len(class_A)):\n",
    "    class_A[i]=eval(class_A[i])\n",
    "print(class_A)"
   ]
  },
  {
   "cell_type": "code",
   "execution_count": 3,
   "metadata": {},
   "outputs": [
    {
     "name": "stdout",
     "output_type": "stream",
     "text": [
      "Values of Class B:-2.7 -3.2 -5.4 -10.8 -1.1 -3.4 0.7 -5.0 -7.1 -10.0 0.9 1.2 -4.9 -6.2 1.3 -1.9 -8.7 -7.4 0.9 -10.3\n"
     ]
    }
   ],
   "source": [
    "input_value = input('Values of Class B:')"
   ]
  },
  {
   "cell_type": "code",
   "execution_count": 4,
   "metadata": {},
   "outputs": [
    {
     "name": "stdout",
     "output_type": "stream",
     "text": [
      "[-2.7, -3.2, -5.4, -10.8, -1.1, -3.4, 0.7, -5.0, -7.1, -10.0, 0.9, 1.2, -4.9, -6.2, 1.3, -1.9, -8.7, -7.4, 0.9, -10.3]\n"
     ]
    }
   ],
   "source": [
    "class_B = input_value.split(' ')\n",
    "for i in range(0,len(class_B)):\n",
    "    class_B[i]=eval(class_B[i])\n",
    "print(class_B)"
   ]
  },
  {
   "cell_type": "code",
   "execution_count": 5,
   "metadata": {},
   "outputs": [
    {
     "name": "stdout",
     "output_type": "stream",
     "text": [
      "[-10.8, -10.3, -10.0, -8.7, -7.4, -7.1, -6.5, -6.2, -5.4, -5.0, -4.9, -4.2, -3.4, -3.2, -3.1, -2.7, -1.9, -1.1, -0.5, -0.4, 0.7, 0.8, 0.9, 0.9, 1.2, 1.3, 1.3, 1.7, 2.3, 2.5, 2.5, 2.7, 2.8, 3.0, 4.6, 5.1, 8.1, 8.2, 10.1, 10.5]\n"
     ]
    }
   ],
   "source": [
    "all_values = class_A+class_B\n",
    "all_values.sort()\n",
    "print(all_values)"
   ]
  },
  {
   "cell_type": "code",
   "execution_count": 6,
   "metadata": {},
   "outputs": [],
   "source": [
    "missclassifications_class_A = []\n",
    "missclassifications_class_B = []"
   ]
  },
  {
   "cell_type": "code",
   "execution_count": 7,
   "metadata": {},
   "outputs": [
    {
     "name": "stdout",
     "output_type": "stream",
     "text": [
      "For Threshold= -10.8 Total missclassification= 19 Cost= 132.9\n",
      "[-2.7, -3.2, -5.4, -1.1, -3.4, 0.7, -5.0, -7.1, -10.0, 0.9, 1.2, -4.9, -6.2, 1.3, -1.9, -8.7, -7.4, 0.9, -10.3] \n",
      "\n",
      "For Threshold= -10.3 Total missclassification= 18 Cost= 123.40000000000002\n",
      "[-2.7, -3.2, -5.4, -1.1, -3.4, 0.7, -5.0, -7.1, -10.0, 0.9, 1.2, -4.9, -6.2, 1.3, -1.9, -8.7, -7.4, 0.9] \n",
      "\n",
      "For Threshold= -10.0 Total missclassification= 17 Cost= 117.99999999999999\n",
      "[-2.7, -3.2, -5.4, -1.1, -3.4, 0.7, -5.0, -7.1, 0.9, 1.2, -4.9, -6.2, 1.3, -1.9, -8.7, -7.4, 0.9] \n",
      "\n",
      "For Threshold= -8.7 Total missclassification= 16 Cost= 95.89999999999999\n",
      "[-2.7, -3.2, -5.4, -1.1, -3.4, 0.7, -5.0, -7.1, 0.9, 1.2, -4.9, -6.2, 1.3, -1.9, -7.4, 0.9] \n",
      "\n",
      "For Threshold= -7.4 Total missclassification= 15 Cost= 75.10000000000001\n",
      "[-2.7, -3.2, -5.4, -1.1, -3.4, 0.7, -5.0, -7.1, 0.9, 1.2, -4.9, -6.2, 1.3, -1.9, 0.9] \n",
      "\n",
      "For Threshold= -7.1 Total missclassification= 14 Cost= 70.6\n",
      "[-2.7, -3.2, -5.4, -1.1, -3.4, 0.7, -5.0, 0.9, 1.2, -4.9, -6.2, 1.3, -1.9, 0.9] \n",
      "\n",
      "For Threshold= -6.5 Total missclassification= 15 Cost= 62.199999999999996\n",
      "[-6.5, -2.7, -3.2, -5.4, -1.1, -3.4, 0.7, -5.0, 0.9, 1.2, -4.9, -6.2, 1.3, -1.9, 0.9] \n",
      "\n",
      "For Threshold= -6.2 Total missclassification= 14 Cost= 58.300000000000004\n",
      "[-6.5, -2.7, -3.2, -5.4, -1.1, -3.4, 0.7, -5.0, 0.9, 1.2, -4.9, 1.3, -1.9, 0.9] \n",
      "\n",
      "For Threshold= -5.4 Total missclassification= 13 Cost= 48.7\n",
      "[-6.5, -2.7, -3.2, -1.1, -3.4, 0.7, -5.0, 0.9, 1.2, -4.9, 1.3, -1.9, 0.9] \n",
      "\n",
      "For Threshold= -5.0 Total missclassification= 12 Cost= 44.3\n",
      "[-6.5, -2.7, -3.2, -1.1, -3.4, 0.7, 0.9, 1.2, -4.9, 1.3, -1.9, 0.9] \n",
      "\n",
      "For Threshold= -4.9 Total missclassification= 11 Cost= 43.30000000000001\n",
      "[-6.5, -2.7, -3.2, -1.1, -3.4, 0.7, 0.9, 1.2, 1.3, -1.9, 0.9] \n",
      "\n",
      "For Threshold= -4.2 Total missclassification= 12 Cost= 37.0\n",
      "[-4.2, -6.5, -2.7, -3.2, -1.1, -3.4, 0.7, 0.9, 1.2, 1.3, -1.9, 0.9] \n",
      "\n",
      "For Threshold= -3.4 Total missclassification= 11 Cost= 30.6\n",
      "[-4.2, -6.5, -2.7, -3.2, -1.1, 0.7, 0.9, 1.2, 1.3, -1.9, 0.9] \n",
      "\n",
      "For Threshold= -3.2 Total missclassification= 10 Cost= 29.200000000000006\n",
      "[-4.2, -6.5, -2.7, -1.1, 0.7, 0.9, 1.2, 1.3, -1.9, 0.9] \n",
      "\n",
      "For Threshold= -3.1 Total missclassification= 11 Cost= 28.599999999999998\n",
      "[-4.2, -3.1, -6.5, -2.7, -1.1, 0.7, 0.9, 1.2, 1.3, -1.9, 0.9] \n",
      "\n",
      "For Threshold= -2.7 Total missclassification= 10 Cost= 26.6\n",
      "[-4.2, -3.1, -6.5, -1.1, 0.7, 0.9, 1.2, 1.3, -1.9, 0.9] \n",
      "\n",
      "For Threshold= -1.9 Total missclassification= 9 Cost= 23.4\n",
      "[-4.2, -3.1, -6.5, -1.1, 0.7, 0.9, 1.2, 1.3, 0.9] \n",
      "\n",
      "For Threshold= -1.1 Total missclassification= 8 Cost= 21.0\n",
      "[-4.2, -3.1, -6.5, 0.7, 0.9, 1.2, 1.3, 0.9] \n",
      "\n",
      "For Threshold= -0.5 Total missclassification= 9 Cost= 19.8\n",
      "[-0.5, -4.2, -3.1, -6.5, 0.7, 0.9, 1.2, 1.3, 0.9] \n",
      "\n",
      "For Threshold= -0.4 Total missclassification= 10 Cost= 19.7\n",
      "[-0.5, -0.4, -4.2, -3.1, -6.5, 0.7, 0.9, 1.2, 1.3, 0.9] \n",
      "\n",
      "For Threshold= 0.7 Total missclassification= 9 Cost= 19.7\n",
      "[-0.5, -0.4, -4.2, -3.1, -6.5, 0.9, 1.2, 1.3, 0.9] \n",
      "\n",
      "For Threshold= 0.8 Total missclassification= 10 Cost= 19.8\n",
      "[-0.5, -0.4, -4.2, -3.1, 0.8, -6.5, 0.9, 1.2, 1.3, 0.9] \n",
      "\n",
      "For Threshold= 0.9 Total missclassification= 8 Cost= 20.0\n",
      "[-0.5, -0.4, -4.2, -3.1, 0.8, -6.5, 1.2, 1.3] \n",
      "\n",
      "For Threshold= 0.9 Total missclassification= 8 Cost= 20.0\n",
      "[-0.5, -0.4, -4.2, -3.1, 0.8, -6.5, 1.2, 1.3] \n",
      "\n",
      "For Threshold= 1.2 Total missclassification= 7 Cost= 21.200000000000003\n",
      "[-0.5, -0.4, -4.2, -3.1, 0.8, -6.5, 1.3] \n",
      "\n",
      "For Threshold= 1.3 Total missclassification= 7 Cost= 21.7\n",
      "[1.3, -0.5, -0.4, -4.2, -3.1, 0.8, -6.5] \n",
      "\n",
      "For Threshold= 1.3 Total missclassification= 7 Cost= 21.7\n",
      "[1.3, -0.5, -0.4, -4.2, -3.1, 0.8, -6.5] \n",
      "\n",
      "For Threshold= 1.7 Total missclassification= 8 Cost= 24.5\n",
      "[1.3, -0.5, -0.4, -4.2, -3.1, 1.7, 0.8, -6.5] \n",
      "\n",
      "For Threshold= 2.3 Total missclassification= 9 Cost= 29.3\n",
      "[1.3, -0.5, 2.3, -0.4, -4.2, -3.1, 1.7, 0.8, -6.5] \n",
      "\n",
      "For Threshold= 2.5 Total missclassification= 11 Cost= 31.1\n",
      "[1.3, -0.5, 2.3, -0.4, 2.5, -4.2, -3.1, 1.7, 2.5, 0.8, -6.5] \n",
      "\n",
      "For Threshold= 2.5 Total missclassification= 11 Cost= 31.1\n",
      "[1.3, -0.5, 2.3, -0.4, 2.5, -4.2, -3.1, 1.7, 2.5, 0.8, -6.5] \n",
      "\n",
      "For Threshold= 2.7 Total missclassification= 12 Cost= 33.3\n",
      "[1.3, -0.5, 2.3, -0.4, 2.5, -4.2, -3.1, 1.7, 2.5, 0.8, 2.7, -6.5] \n",
      "\n",
      "For Threshold= 2.8 Total missclassification= 13 Cost= 34.5\n",
      "[1.3, -0.5, 2.3, -0.4, 2.5, -4.2, -3.1, 1.7, 2.8, 2.5, 0.8, 2.7, -6.5] \n",
      "\n",
      "For Threshold= 3.0 Total missclassification= 14 Cost= 37.1\n",
      "[1.3, -0.5, 2.3, -0.4, 2.5, -4.2, -3.1, 1.7, 2.8, 3.0, 2.5, 0.8, 2.7, -6.5] \n",
      "\n",
      "For Threshold= 4.6 Total missclassification= 15 Cost= 59.49999999999999\n",
      "[1.3, -0.5, 2.3, -0.4, 2.5, -4.2, -3.1, 1.7, 2.8, 4.6, 3.0, 2.5, 0.8, 2.7, -6.5] \n",
      "\n",
      "For Threshold= 5.1 Total missclassification= 16 Cost= 66.99999999999999\n",
      "[1.3, -0.5, 2.3, 5.1, -0.4, 2.5, -4.2, -3.1, 1.7, 2.8, 4.6, 3.0, 2.5, 0.8, 2.7, -6.5] \n",
      "\n",
      "For Threshold= 8.1 Total missclassification= 17 Cost= 115.0\n",
      "[1.3, -0.5, 2.3, 5.1, -0.4, 2.5, -4.2, -3.1, 1.7, 2.8, 4.6, 3.0, 2.5, 0.8, 8.1, 2.7, -6.5] \n",
      "\n",
      "For Threshold= 8.2 Total missclassification= 18 Cost= 116.69999999999999\n",
      "[1.3, -0.5, 2.3, 5.1, 8.2, -0.4, 2.5, -4.2, -3.1, 1.7, 2.8, 4.6, 3.0, 2.5, 0.8, 8.1, 2.7, -6.5] \n",
      "\n",
      "For Threshold= 10.1 Total missclassification= 19 Cost= 150.89999999999998\n",
      "[1.3, -0.5, 2.3, 5.1, 8.2, -0.4, 2.5, -4.2, -3.1, 1.7, 2.8, 4.6, 3.0, 10.1, 2.5, 0.8, 8.1, 2.7, -6.5] \n",
      "\n",
      "For Threshold= 10.5 Total missclassification= 20 Cost= 158.5\n",
      "[1.3, -0.5, 2.3, 5.1, 8.2, -0.4, 10.5, 2.5, -4.2, -3.1, 1.7, 2.8, 4.6, 3.0, 10.1, 2.5, 0.8, 8.1, 2.7, -6.5] \n",
      "\n"
     ]
    }
   ],
   "source": [
    "for threshold in all_values:\n",
    "    missclassified_class_A = 0\n",
    "    missclassified_class_B = 0\n",
    "    cost = 0\n",
    "    missclassifications = []\n",
    "    #print('Missclassifications for Class-A:')\n",
    "    for value_class_A in class_A:\n",
    "        #Class-A should be greater than Threshold value:: \n",
    "        if value_class_A <= threshold:\n",
    "            #print(value_class_A)\n",
    "            missclassifications.append(value_class_A)\n",
    "            missclassified_class_A += 1\n",
    "            cost += abs(threshold-value_class_A)\n",
    "    for value_class_B in class_B:\n",
    "        #Class-B should be <= Threshold value::\n",
    "        if value_class_B > threshold:\n",
    "            #print(value_class_B)\n",
    "            missclassifications.append(value_class_B)\n",
    "            missclassified_class_B += 1\n",
    "            cost += abs(threshold-value_class_B)\n",
    "    print('For Threshold=',threshold,'Total missclassification=',missclassified_class_A+missclassified_class_B,'Cost=',cost)\n",
    "    print(missclassifications,'\\n')"
   ]
  },
  {
   "cell_type": "code",
   "execution_count": null,
   "metadata": {},
   "outputs": [],
   "source": []
  }
 ],
 "metadata": {
  "kernelspec": {
   "display_name": "Python 3",
   "language": "python",
   "name": "python3"
  },
  "language_info": {
   "codemirror_mode": {
    "name": "ipython",
    "version": 3
   },
   "file_extension": ".py",
   "mimetype": "text/x-python",
   "name": "python",
   "nbconvert_exporter": "python",
   "pygments_lexer": "ipython3",
   "version": "3.6.6"
  }
 },
 "nbformat": 4,
 "nbformat_minor": 2
}
